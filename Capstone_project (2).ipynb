{
 "cells": [
  {
   "cell_type": "code",
   "execution_count": null,
   "id": "800372f0-5d6c-4cb4-99d9-7a487ded6d72",
   "metadata": {},
   "outputs": [],
   "source": [
    "#Task 1 :There are three different tables as given above. Please make three dataframe in python and save them as three .csv files.\n",
    "#From Task 2 to Task 10, use the saved .csv files only."
   ]
  },
  {
   "cell_type": "code",
   "execution_count": 8,
   "id": "8b043e5e-3cb5-4a8b-9903-4b953c286e01",
   "metadata": {},
   "outputs": [
    {
     "name": "stdout",
     "output_type": "stream",
     "text": [
      "CSV file created successfully.\n"
     ]
    }
   ],
   "source": [
    "# Project DataFrame\n",
    "import pandas as pd\n",
    "project_data = {\n",
    "    'ID': ['A001', 'A002', 'A003', 'A004', 'A002', 'A005', 'A004', 'A001', 'A003', 'A001', 'A004', 'A005'],\n",
    "    'Project': ['Project 1', 'Project 2', 'Project 3', 'Project 4', 'Project 5', 'Project 6',\n",
    "                'Project 7', 'Project 8', 'Project 9', 'Project 10', 'Project 11', 'Project 12'],\n",
    "    'Cost': [1002000, 2000000, 4500000, 5500000, 680000, 3000000,\n",
    "             4000000, 1000000, 300000, None, 1200000, 200000],\n",
    "    'Status': ['Finished', 'Ongoing', 'Finished', 'Ongoing', 'Finished', 'Failed',\n",
    "               'Finished', 'Failed', 'Ongoing', 'Failed', 'Ongoing', 'Failed']\n",
    "}\n",
    "# Creating the DataFrame\n",
    "df_project = pd.DataFrame(project_data)\n",
    "# Converting to CSV\n",
    "df_project.to_csv('Project.csv', index=False)\n",
    "print(\"CSV file created successfully.\")"
   ]
  },
  {
   "cell_type": "code",
   "execution_count": 9,
   "id": "676d93fe-68cc-4ba3-8edb-3d2a0a14bcd3",
   "metadata": {},
   "outputs": [
    {
     "name": "stdout",
     "output_type": "stream",
     "text": [
      "CSV file created successfully.\n"
     ]
    }
   ],
   "source": [
    "import pandas as pd\n",
    "\n",
    "emplyoee_dataframe = {\n",
    "    'ID': ['A001', 'A002', 'A003', 'A004', 'A005'],\n",
    "    'Name': ['John Alter', 'Alice Luxumberg', 'Tom Sabestine', 'Nina Adgra', 'Amy Johny'],\n",
    "    'Gender': ['M', 'F', 'M', 'F', 'F'],\n",
    "    'City': ['Paris', 'London', 'Berlin', 'Newyork', 'Madrid'],\n",
    "    'Age': [25, 27, 29, 31, 30]\n",
    "}\n",
    "\n",
    "# Creating DataFrame\n",
    "df = pd.DataFrame(emplyoee_dataframe)\n",
    "\n",
    "# Converting it to CSV\n",
    "df.to_csv('employee_data.csv', index=False)\n",
    "\n",
    "print(\"CSV file created successfully.\")"
   ]
  },
  {
   "cell_type": "code",
   "execution_count": 10,
   "id": "7a4815f2-1a41-4761-92b2-7ffa6e177ffa",
   "metadata": {},
   "outputs": [
    {
     "name": "stdout",
     "output_type": "stream",
     "text": [
      "CSV file created successfully.\n"
     ]
    }
   ],
   "source": [
    "import pandas as pd\n",
    "\n",
    "seniority_level_dataframe = {\n",
    "    'ID': ['A001', 'A002', 'A003', 'A004', 'A005'],\n",
    "    'Designation': ['2', '2', '3', '2', '3'],\n",
    "    'Level': [2, 2, 3, 2, 3]\n",
    "}\n",
    "\n",
    "# Creating DataFrame\n",
    "df = pd.DataFrame(seniority_level_dataframe)\n",
    "\n",
    "# Converting it to CSV\n",
    "df.to_csv('seniority_level_data.csv', index=False)\n",
    "\n",
    "print(\"CSV file created successfully.\")\n"
   ]
  },
  {
   "cell_type": "code",
   "execution_count": null,
   "id": "489fb4eb-872f-4ccf-883c-c84f91a097a8",
   "metadata": {},
   "outputs": [],
   "source": [
    "#Task 2 :The cost column in the dataframe “Project” has some missing values. Your task is to compute these missing values. \n",
    "#Replace the missing values by running average. You should use the “For” loop for this task."
   ]
  },
  {
   "cell_type": "code",
   "execution_count": 11,
   "id": "79b54cd7-fea0-4bd7-b74e-8247dfb8c513",
   "metadata": {},
   "outputs": [
    {
     "name": "stdout",
     "output_type": "stream",
     "text": [
      "Updated DataFrame:\n",
      "      ID     Project       Cost    Status\n",
      "0   A001   Project 1 1002000.00  Finished\n",
      "1   A002   Project 2 2000000.00   Ongoing\n",
      "2   A003   Project 3 4500000.00  Finished\n",
      "3   A004   Project 4 5500000.00   Ongoing\n",
      "4   A005   Project 5 3250500.00  Finished\n",
      "5   A002   Project 6  680000.00    Failed\n",
      "6   A005   Project 7  400000.00  Finished\n",
      "7   A003   Project 8  350000.00    Failed\n",
      "8   A001   Project 9 2061714.29   Ongoing\n",
      "9   A003  Project 10  300000.00  Finished\n",
      "10  A001  Project 11 2000000.00    Failed\n",
      "11  A004  Project 12 1000000.00   Ongoing\n",
      "12  A004  Project 13 3000000.00  Finished\n",
      "13  A005  Project 14  200000.00  Finished\n"
     ]
    }
   ],
   "source": [
    "import pandas as pd\n",
    "\n",
    "# Defining the project dataframe\n",
    "project_dataframe = {\n",
    "    'ID': ['A001', 'A002', 'A003', 'A004', 'A005', 'A002', 'A005', 'A003', 'A001', 'A003', 'A001', 'A004', 'A004', 'A005'],\n",
    "    'Project': ['Project 1', 'Project 2', 'Project 3', 'Project 4', 'Project 5', 'Project 6', 'Project 7', 'Project 8', 'Project 9', 'Project 10', 'Project 11', 'Project 12', 'Project 13', 'Project 14'],\n",
    "    'Cost': [1002000, 2000000, 4500000, 5500000, None, 680000, 400000, 350000, None, 300000, 2000000, 1000000, 3000000, 200000],\n",
    "    'Status': ['Finished', 'Ongoing', 'Finished', 'Ongoing', 'Finished', 'Failed', 'Finished', 'Failed', 'Ongoing', 'Finished', 'Failed', 'Ongoing', 'Finished', 'Finished']\n",
    "}\n",
    "\n",
    "# Creating the DataFrame\n",
    "df = pd.DataFrame(project_dataframe)\n",
    "\n",
    "# Converting 'Cost' column to numeric\n",
    "df['Cost'] = pd.to_numeric(df['Cost'], errors='coerce')\n",
    "\n",
    "# Calculating running average\n",
    "running_total = 0\n",
    "count = 0\n",
    "running_average = []\n",
    "\n",
    "for i, cost in enumerate(df['Cost']):\n",
    "    if pd.notna(cost):\n",
    "        running_total += cost\n",
    "        count += 1\n",
    "    running_average.append(running_total / count if count != 0 else None)\n",
    "\n",
    "# Replacing missing values with running average\n",
    "for i, cost in enumerate(df['Cost']):\n",
    "    if pd.isna(cost):\n",
    "        df.at[i, 'Cost'] = running_average[i]\n",
    "\n",
    "# Setting pandas option to display the 'Cost' column without scientific notation\n",
    "pd.options.display.float_format = '{:.2f}'.format\n",
    "\n",
    "print(\"Updated DataFrame:\")\n",
    "print(df)"
   ]
  },
  {
   "cell_type": "code",
   "execution_count": null,
   "id": "e94a5f8e-bd30-423e-b68a-6caf91d7ca8c",
   "metadata": {},
   "outputs": [],
   "source": [
    "#Task 3 :Split the name column in the Employee dataframe into two new columns “First Name”,\n",
    "#and “LastName” and remove the older “name” column."
   ]
  },
  {
   "cell_type": "code",
   "execution_count": 12,
   "id": "17f5ed9b-b672-4779-95f6-dbbdf3568b0e",
   "metadata": {},
   "outputs": [
    {
     "name": "stdout",
     "output_type": "stream",
     "text": [
      "Updated DataFrame:\n",
      "     ID Gender     City  Age First Name  Last Name\n",
      "0  A001      M    Paris   25       John      Alter\n",
      "1  A002      F   London   27      Alice  Luxumberg\n",
      "2  A003      M   Berlin   29        Tom  Sabestine\n",
      "3  A004      F  Newyork   31       Nina      Adgra\n",
      "4  A005      F   Madrid   30        Amy      Johny\n"
     ]
    }
   ],
   "source": [
    "import pandas as pd\n",
    "\n",
    "df = pd.read_csv('employee_data.csv')\n",
    "\n",
    "# Splitting the \"Name\" column into \"First Name\" and \"Last Name\"\n",
    "df[['First Name', 'Last Name']] = df['Name'].str.split(' ', n=1, expand=True)\n",
    "\n",
    "# Dropping the original \"Name\" column\n",
    "df.drop(columns=['Name'], inplace=True)\n",
    "\n",
    "# Displaying the updated DataFrame with values\n",
    "print(\"Updated DataFrame:\")\n",
    "print(df)"
   ]
  },
  {
   "cell_type": "code",
   "execution_count": null,
   "id": "d229e093-7c7e-4958-9e50-e85fdef21645",
   "metadata": {},
   "outputs": [],
   "source": [
    "#Task 4 :Join all three dataframes in one single dataframe. Name it “Final”"
   ]
  },
  {
   "cell_type": "code",
   "execution_count": 21,
   "id": "527b60e1-6354-44a2-a851-33e7e58c2632",
   "metadata": {},
   "outputs": [
    {
     "name": "stdout",
     "output_type": "stream",
     "text": [
      "Final DataFrame:\n",
      "      ID     Project       Cost    Status Gender     City  Age First Name  \\\n",
      "0   A001   Project 1 1002000.00  Finished      M    Paris   25       John   \n",
      "1   A001   Project 8 1000000.00    Failed      M    Paris   25       John   \n",
      "2   A001  Project 10 2442444.44    Failed      M    Paris   25       John   \n",
      "3   A002   Project 2 2000000.00   Ongoing      F   London   27      Alice   \n",
      "4   A002   Project 5  680000.00  Finished      F   London   27      Alice   \n",
      "5   A003   Project 3 4500000.00  Finished      M   Berlin   29        Tom   \n",
      "6   A003   Project 9  300000.00   Ongoing      M   Berlin   29        Tom   \n",
      "7   A004   Project 4 5500000.00   Ongoing      F  Newyork   31       Nina   \n",
      "8   A004   Project 7 4000000.00  Finished      F  Newyork   31       Nina   \n",
      "9   A004  Project 11 1200000.00   Ongoing      F  Newyork   31       Nina   \n",
      "10  A005   Project 6 3000000.00    Failed      F   Madrid   30        Amy   \n",
      "11  A005  Project 12  200000.00    Failed      F   Madrid   30        Amy   \n",
      "\n",
      "    Last Name  Designation  Level  \n",
      "0       Alter            2      2  \n",
      "1       Alter            2      2  \n",
      "2       Alter            2      2  \n",
      "3   Luxumberg            2      2  \n",
      "4   Luxumberg            2      2  \n",
      "5   Sabestine            3      3  \n",
      "6   Sabestine            3      3  \n",
      "7       Adgra            2      2  \n",
      "8       Adgra            2      2  \n",
      "9       Adgra            2      2  \n",
      "10      Johny            3      3  \n",
      "11      Johny            3      3  \n"
     ]
    }
   ],
   "source": [
    "\n",
    "import pandas as pd\n",
    "\n",
    "# Reading the updated CSV files\n",
    "df_project = pd.read_csv('Project.csv')\n",
    "df_employee = pd.read_csv('employee_data.csv')\n",
    "df_seniority_level = pd.read_csv('seniority_level_data.csv')\n",
    "\n",
    "# Calculating running average for the \"Cost\" column\n",
    "running_total = 0\n",
    "count = 0\n",
    "running_average = []\n",
    "\n",
    "for cost in df_project['Cost']:\n",
    "    if pd.notna(cost):\n",
    "        running_total += cost\n",
    "        count += 1\n",
    "    running_average.append(running_total / count if count != 0 else None)\n",
    "\n",
    "# Updating missing values in the \"Cost\" column with running average\n",
    "df_project['Cost'] = [avg if pd.isna(cost) else cost for cost, avg in zip(df_project['Cost'], running_average)]\n",
    "\n",
    "# Splitting the \"Name\" column into \"First Name\" and \"Last Name\" in the employee DataFrame\n",
    "df_employee[['First Name', 'Last Name']] = df_employee['Name'].str.split(' ', n=1, expand=True)\n",
    "df_employee.drop(columns=['Name'], inplace=True)\n",
    "\n",
    "# Merging the DataFrames\n",
    "final_df = pd.merge(df_project, df_employee, on='ID')\n",
    "final_df = pd.merge(final_df, df_seniority_level, on='ID')\n",
    "\n",
    "print(\"Final DataFrame:\")\n",
    "print(final_df)"
   ]
  },
  {
   "cell_type": "code",
   "execution_count": null,
   "id": "3df784af-3aae-4c2a-94bf-53a7c45a1753",
   "metadata": {},
   "outputs": [],
   "source": [
    "#Task 5 :Add a new bonus column in the Final dataframe. Give a 5% bonus concerning project cost only to employees who have finished the projects."
   ]
  },
  {
   "cell_type": "code",
   "execution_count": 23,
   "id": "20bde8c5-9a2b-430d-bbd1-564dc647bed4",
   "metadata": {},
   "outputs": [
    {
     "name": "stdout",
     "output_type": "stream",
     "text": [
      "Final DataFrame with Bonus:\n",
      "      ID     Project       Cost    Status Gender     City  Age First Name  \\\n",
      "0   A001   Project 1 1002000.00  Finished      M    Paris   25       John   \n",
      "1   A001   Project 8 1000000.00    Failed      M    Paris   25       John   \n",
      "2   A001  Project 10 2442444.44    Failed      M    Paris   25       John   \n",
      "3   A002   Project 2 2000000.00   Ongoing      F   London   27      Alice   \n",
      "4   A002   Project 5  680000.00  Finished      F   London   27      Alice   \n",
      "5   A003   Project 3 4500000.00  Finished      M   Berlin   29        Tom   \n",
      "6   A003   Project 9  300000.00   Ongoing      M   Berlin   29        Tom   \n",
      "7   A004   Project 4 5500000.00   Ongoing      F  Newyork   31       Nina   \n",
      "8   A004   Project 7 4000000.00  Finished      F  Newyork   31       Nina   \n",
      "9   A004  Project 11 1200000.00   Ongoing      F  Newyork   31       Nina   \n",
      "10  A005   Project 6 3000000.00    Failed      F   Madrid   30        Amy   \n",
      "11  A005  Project 12  200000.00    Failed      F   Madrid   30        Amy   \n",
      "\n",
      "    Last Name  Designation  Level   Bonus  \n",
      "0       Alter            2      2   50100  \n",
      "1       Alter            2      2       0  \n",
      "2       Alter            2      2       0  \n",
      "3   Luxumberg            2      2       0  \n",
      "4   Luxumberg            2      2   34000  \n",
      "5   Sabestine            3      3  225000  \n",
      "6   Sabestine            3      3       0  \n",
      "7       Adgra            2      2       0  \n",
      "8       Adgra            2      2  200000  \n",
      "9       Adgra            2      2       0  \n",
      "10      Johny            3      3       0  \n",
      "11      Johny            3      3       0  \n"
     ]
    }
   ],
   "source": [
    "import pandas as pd\n",
    "\n",
    "df_project = pd.read_csv('project.csv')\n",
    "df_employee = pd.read_csv('employee_data.csv')\n",
    "df_seniority_level = pd.read_csv('seniority_level_data.csv')\n",
    "\n",
    "# Calculating running average for the \"Cost\" column\n",
    "running_total = 0\n",
    "count = 0\n",
    "running_average = []\n",
    "\n",
    "for cost in df_project['Cost']:\n",
    "    if pd.notna(cost):\n",
    "        running_total += cost\n",
    "        count += 1\n",
    "    running_average.append(running_total / count if count != 0 else None)\n",
    "\n",
    "# Updating missing values in the \"Cost\" column with running average\n",
    "df_project['Cost'] = [avg if pd.isna(cost) else cost for cost, avg in zip(df_project['Cost'], running_average)]\n",
    "\n",
    "# Splitting the \"Name\" column into \"First Name\" and \"Last Name\" in the employee DataFrame\n",
    "df_employee[['First Name', 'Last Name']] = df_employee['Name'].str.split(' ', n=1, expand=True)\n",
    "df_employee.drop(columns=['Name'], inplace=True)\n",
    "\n",
    "# Merging the DataFrames\n",
    "final_df = pd.merge(df_project, df_employee, on='ID', how='left')  # Use 'left' join to keep all projects\n",
    "final_df = pd.merge(final_df, df_seniority_level, on='ID')\n",
    "\n",
    "# Adding a new column \"Bonus\" to the Final dataframe\n",
    "final_df['Bonus'] = 0\n",
    "\n",
    "# Calculating bonus for employees who have finished the projects\n",
    "finished_projects_index = final_df[final_df['Status'] == 'Finished'].index  # Get index of finished projects\n",
    "\n",
    "# Applying a 5% bonus to the project cost for finished projects using .loc to avoid SettingWithCopyWarning\n",
    "final_df.loc[finished_projects_index, 'Bonus'] = final_df.loc[finished_projects_index, 'Cost'] * 0.05\n",
    "\n",
    "print(\"Final DataFrame with Bonus:\")\n",
    "print(final_df)"
   ]
  },
  {
   "cell_type": "code",
   "execution_count": null,
   "id": "3b8b8dac-6ea8-4a27-9351-a6ed082f14eb",
   "metadata": {},
   "outputs": [],
   "source": [
    "#Task 6 :Demote the designation level by 1, whose projects have status “fail”. Delete the\n",
    "#employees record whose designation level is above 4."
   ]
  },
  {
   "cell_type": "code",
   "execution_count": 24,
   "id": "b6de147b-e563-4134-ac4f-c1f6a742502c",
   "metadata": {},
   "outputs": [
    {
     "name": "stdout",
     "output_type": "stream",
     "text": [
      "Updated DataFrame after demoting and deleting records:\n",
      "      ID     Project       Cost    Status Gender     City  Age First Name  \\\n",
      "0   A001   Project 1 1002000.00  Finished      M    Paris   25       John   \n",
      "1   A001   Project 8 1000000.00    Failed      M    Paris   25       John   \n",
      "2   A001  Project 10 2442444.44    Failed      M    Paris   25       John   \n",
      "3   A002   Project 2 2000000.00   Ongoing      F   London   27      Alice   \n",
      "4   A002   Project 5  680000.00  Finished      F   London   27      Alice   \n",
      "5   A003   Project 3 4500000.00  Finished      M   Berlin   29        Tom   \n",
      "6   A003   Project 9  300000.00   Ongoing      M   Berlin   29        Tom   \n",
      "7   A004   Project 4 5500000.00   Ongoing      F  Newyork   31       Nina   \n",
      "8   A004   Project 7 4000000.00  Finished      F  Newyork   31       Nina   \n",
      "9   A004  Project 11 1200000.00   Ongoing      F  Newyork   31       Nina   \n",
      "10  A005   Project 6 3000000.00    Failed      F   Madrid   30        Amy   \n",
      "11  A005  Project 12  200000.00    Failed      F   Madrid   30        Amy   \n",
      "\n",
      "    Last Name  Designation  Level   Bonus  \n",
      "0       Alter            2      2   50100  \n",
      "1       Alter            1      2       0  \n",
      "2       Alter            1      2       0  \n",
      "3   Luxumberg            2      2       0  \n",
      "4   Luxumberg            2      2   34000  \n",
      "5   Sabestine            3      3  225000  \n",
      "6   Sabestine            3      3       0  \n",
      "7       Adgra            2      2       0  \n",
      "8       Adgra            2      2  200000  \n",
      "9       Adgra            2      2       0  \n",
      "10      Johny            2      3       0  \n",
      "11      Johny            2      3       0  \n"
     ]
    }
   ],
   "source": [
    "# Demoting the designation level by 1 for employees whose projects have status \"fail\"\n",
    "final_df.loc[final_df['Status'] == 'Failed', 'Designation'] = final_df.loc[final_df['Status'] == 'Failed', 'Designation'] - 1\n",
    "\n",
    "# Deleting records of employees whose designation level is above 4\n",
    "final_df = final_df[final_df['Designation'] <= 4]\n",
    "\n",
    "# Displaying the updated dataframe\n",
    "print(\"Updated DataFrame after demoting and deleting records:\")\n",
    "print(final_df)"
   ]
  },
  {
   "cell_type": "code",
   "execution_count": null,
   "id": "9bddf3e2-88af-4951-a27d-846342d2ff70",
   "metadata": {},
   "outputs": [],
   "source": [
    "#Task 7: Add “Mr.” and “Mrs.” to the first name column and drop the gender column."
   ]
  },
  {
   "cell_type": "code",
   "execution_count": 25,
   "id": "313a96d3-ece8-4df8-aabf-9e5ea6e72bc9",
   "metadata": {},
   "outputs": [
    {
     "name": "stdout",
     "output_type": "stream",
     "text": [
      "Updated Final DataFrame:\n",
      "      ID     Project       Cost    Status     City  Age  First Name  \\\n",
      "0   A001   Project 1 1002000.00  Finished    Paris   25    Mr. John   \n",
      "1   A001   Project 8 1000000.00    Failed    Paris   25    Mr. John   \n",
      "2   A001  Project 10 2442444.44    Failed    Paris   25    Mr. John   \n",
      "3   A002   Project 2 2000000.00   Ongoing   London   27  Mrs. Alice   \n",
      "4   A002   Project 5  680000.00  Finished   London   27  Mrs. Alice   \n",
      "5   A003   Project 3 4500000.00  Finished   Berlin   29     Mr. Tom   \n",
      "6   A003   Project 9  300000.00   Ongoing   Berlin   29     Mr. Tom   \n",
      "7   A004   Project 4 5500000.00   Ongoing  Newyork   31   Mrs. Nina   \n",
      "8   A004   Project 7 4000000.00  Finished  Newyork   31   Mrs. Nina   \n",
      "9   A004  Project 11 1200000.00   Ongoing  Newyork   31   Mrs. Nina   \n",
      "10  A005   Project 6 3000000.00    Failed   Madrid   30    Mrs. Amy   \n",
      "11  A005  Project 12  200000.00    Failed   Madrid   30    Mrs. Amy   \n",
      "\n",
      "    Last Name  Designation  Level   Bonus  \n",
      "0       Alter            2      2   50100  \n",
      "1       Alter            1      2       0  \n",
      "2       Alter            1      2       0  \n",
      "3   Luxumberg            2      2       0  \n",
      "4   Luxumberg            2      2   34000  \n",
      "5   Sabestine            3      3  225000  \n",
      "6   Sabestine            3      3       0  \n",
      "7       Adgra            2      2       0  \n",
      "8       Adgra            2      2  200000  \n",
      "9       Adgra            2      2       0  \n",
      "10      Johny            2      3       0  \n",
      "11      Johny            2      3       0  \n"
     ]
    }
   ],
   "source": [
    "# Adding \"Mr.\" and \"Mrs.\" based on gender to the first name column\n",
    "final_df['First Name'] = final_df.apply(lambda row: 'Mr. ' + row['First Name'] if row['Gender'] == 'M' else 'Mrs. ' + row['First Name'], axis=1)\n",
    "\n",
    "# Dropping the \"Gender\" column\n",
    "final_df.drop(columns=['Gender'], inplace=True)\n",
    "\n",
    "# Displaying the updated final DataFrame\n",
    "print(\"Updated Final DataFrame:\")\n",
    "print(final_df)"
   ]
  },
  {
   "cell_type": "code",
   "execution_count": null,
   "id": "9445add6-f2ec-4e33-9eb8-d540a70f4b38",
   "metadata": {},
   "outputs": [],
   "source": [
    "#Task 8 :Promote designation level by 1 for the employees whose age is more than 29 years using IF condition."
   ]
  },
  {
   "cell_type": "code",
   "execution_count": 26,
   "id": "14ce1ac1-b0ed-437a-ae1d-0de9d7d5229a",
   "metadata": {},
   "outputs": [
    {
     "name": "stdout",
     "output_type": "stream",
     "text": [
      "Updated DataFrame with promoted designation level for employees above 29 years of age:\n",
      "      ID     Project       Cost    Status     City  Age  First Name  \\\n",
      "0   A001   Project 1 1002000.00  Finished    Paris   25    Mr. John   \n",
      "1   A001   Project 8 1000000.00    Failed    Paris   25    Mr. John   \n",
      "2   A001  Project 10 2442444.44    Failed    Paris   25    Mr. John   \n",
      "3   A002   Project 2 2000000.00   Ongoing   London   27  Mrs. Alice   \n",
      "4   A002   Project 5  680000.00  Finished   London   27  Mrs. Alice   \n",
      "5   A003   Project 3 4500000.00  Finished   Berlin   29     Mr. Tom   \n",
      "6   A003   Project 9  300000.00   Ongoing   Berlin   29     Mr. Tom   \n",
      "7   A004   Project 4 5500000.00   Ongoing  Newyork   31   Mrs. Nina   \n",
      "8   A004   Project 7 4000000.00  Finished  Newyork   31   Mrs. Nina   \n",
      "9   A004  Project 11 1200000.00   Ongoing  Newyork   31   Mrs. Nina   \n",
      "10  A005   Project 6 3000000.00    Failed   Madrid   30    Mrs. Amy   \n",
      "11  A005  Project 12  200000.00    Failed   Madrid   30    Mrs. Amy   \n",
      "\n",
      "    Last Name  Designation  Level   Bonus  \n",
      "0       Alter            2      2   50100  \n",
      "1       Alter            1      2       0  \n",
      "2       Alter            1      2       0  \n",
      "3   Luxumberg            2      2       0  \n",
      "4   Luxumberg            2      2   34000  \n",
      "5   Sabestine            3      3  225000  \n",
      "6   Sabestine            3      3       0  \n",
      "7       Adgra            3      2       0  \n",
      "8       Adgra            3      2  200000  \n",
      "9       Adgra            3      2       0  \n",
      "10      Johny            3      3       0  \n",
      "11      Johny            3      3       0  \n"
     ]
    }
   ],
   "source": [
    "for index, row in final_df.iterrows():\n",
    "    # Checking if age is more than 29\n",
    "    if row['Age'] > 29:\n",
    "        # Promoting designation level by 1\n",
    "        final_df.at[index, 'Designation'] += 1\n",
    "\n",
    "# Displaying the updated DataFrame\n",
    "print(\"Updated DataFrame with promoted designation level for employees above 29 years of age:\")\n",
    "print(final_df)"
   ]
  },
  {
   "cell_type": "code",
   "execution_count": null,
   "id": "d8ff3205-ef4c-4e67-931c-1c14feeead43",
   "metadata": {},
   "outputs": [],
   "source": [
    "#Task 9:Add the cost of all projects for each Employee and save it in new dataframe\n",
    "#“TotalProjCost” with three columns ID, First Name, and Total cost"
   ]
  },
  {
   "cell_type": "code",
   "execution_count": 27,
   "id": "e8125070-1ec8-4c81-b755-1788307b8223",
   "metadata": {},
   "outputs": [
    {
     "name": "stdout",
     "output_type": "stream",
     "text": [
      "DataFrame 'TotalProjectCost' with total project cost for each employee:\n",
      "     ID  First Name  Total cost\n",
      "0  A001    Mr. John  4444444.44\n",
      "1  A002  Mrs. Alice  2680000.00\n",
      "2  A003     Mr. Tom  4800000.00\n",
      "3  A004   Mrs. Nina 10700000.00\n",
      "4  A005    Mrs. Amy  3200000.00\n"
     ]
    }
   ],
   "source": [
    "# Grouping by ID and First Name, then sum the cost for each employee\n",
    "total_project_cost = final_df.groupby(['ID', 'First Name'])['Cost'].sum().reset_index()\n",
    "\n",
    "# Renaming the 'Cost' column to 'Total cost'\n",
    "total_project_cost.rename(columns={'Cost': 'Total cost'}, inplace=True)\n",
    "\n",
    "# Displaying the new DataFrame\n",
    "print(\"DataFrame 'TotalProjectCost' with total project cost for each employee:\")\n",
    "print(total_project_cost)"
   ]
  },
  {
   "cell_type": "code",
   "execution_count": null,
   "id": "15044c7a-1c97-4deb-aa20-f272fc382d08",
   "metadata": {},
   "outputs": [],
   "source": [
    "#Task 10:Print all the employee details whose city name contains the letter “o” in it."
   ]
  },
  {
   "cell_type": "code",
   "execution_count": 28,
   "id": "aba0238a-e7c0-46d2-a3d1-eb4dbc570987",
   "metadata": {},
   "outputs": [
    {
     "name": "stdout",
     "output_type": "stream",
     "text": [
      "Employee details whose city name contains the letter 'o':\n",
      "     ID Gender     City  Age First Name  Last Name\n",
      "1  A002      F   London   27      Alice  Luxumberg\n",
      "3  A004      F  Newyork   31       Nina      Adgra\n"
     ]
    }
   ],
   "source": [
    "# Filtering the DataFrame to select rows where the city name contains the letter \"o\"\n",
    "employees_with_o_city = df_employee[df_employee['City'].str.contains('o', case=False)]\n",
    "\n",
    "# Printing the details of employees with cities containing the letter \"o\"\n",
    "print(\"Employee details whose city name contains the letter 'o':\")\n",
    "print(employees_with_o_city)"
   ]
  },
  {
   "cell_type": "code",
   "execution_count": null,
   "id": "d6775f88-5802-4246-9bfb-6df63c617335",
   "metadata": {},
   "outputs": [],
   "source": []
  }
 ],
 "metadata": {
  "kernelspec": {
   "display_name": "Python 3 (ipykernel)",
   "language": "python",
   "name": "python3"
  },
  "language_info": {
   "codemirror_mode": {
    "name": "ipython",
    "version": 3
   },
   "file_extension": ".py",
   "mimetype": "text/x-python",
   "name": "python",
   "nbconvert_exporter": "python",
   "pygments_lexer": "ipython3",
   "version": "3.11.7"
  }
 },
 "nbformat": 4,
 "nbformat_minor": 5
}
